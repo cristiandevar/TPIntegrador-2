{
  "cells": [
    {
      "cell_type": "markdown",
      "metadata": {
        "id": "yWFMEJp2Zd1E"
      },
      "source": [
        "# ***TRABAJO PRACTICO- REDES NEURONALES***\n",
        "\n",
        "\n"
      ]
    },
    {
      "cell_type": "markdown",
      "metadata": {
        "id": "s6OYVREZDtXF"
      },
      "source": [
        "#Apellido, Nombre, DNI, email de todos los integrantes del grupo"
      ]
    },
    {
      "cell_type": "markdown",
      "metadata": {
        "id": "zTMVQxBuNlmx"
      },
      "source": [
        "Escribir aqui los datos de los integrantes de grupos:\n",
        "\\\n",
        "\n",
        "Franco, Cristian Oscar, 39039686"
      ]
    },
    {
      "cell_type": "markdown",
      "metadata": {},
      "source": [
        "\n",
        "Hola gente en este INTEGRADOR 2, se les proporcionará un csv (csv=base de datos=un data set con columnas y filas) de ciudades de Argentina, los mismos contienen los registros de Máxima y Mínima temperatura que ocurren en las ciudades a lo largo de un año.\n"
      ]
    },
    {
      "cell_type": "markdown",
      "metadata": {},
      "source": [
        "## Links de interes\n",
        "\n",
        "* DRIVE DE LA COMISION 3, alli hallaran el csv CORREGIDO: [Drive Comision 3](https://drive.google.com/drive/u/1/folders/1qLsgA7WGZgfTUYeKy7wMGsDF4v52Myq5)\n",
        "* CSV obtenida del registro nacional de las siguientes enlaces: \n",
        "    * [detalle de la base de datos](https://datos.gob.ar/dataset/smn-registro-temperatura-365-dias/archivo/smn_5.1)\n",
        "    * [REGISTRO DE TEMPERATURA 365 DIAS](https://www.smn.gob.ar/descarga-de-datos).\n",
        "* La base de datos también podra ser descargada del siguiente enlace del drive [BASE DE DATOS](https://drive.google.com/drive/folders/18rTLeY5A8DOwz39TB563HPHIpZTJM3CA?usp=sharing)"
      ]
    },
    {
      "cell_type": "markdown",
      "metadata": {},
      "source": [
        "## Incisos\n",
        "Se deberá ralizar los siguientes pasos."
      ]
    },
    {
      "cell_type": "code",
      "execution_count": 304,
      "metadata": {},
      "outputs": [],
      "source": [
        "#Importamos librerias necesarias\n",
        "import pandas as pd;\n",
        "import numpy as np;"
      ]
    },
    {
      "cell_type": "markdown",
      "metadata": {},
      "source": [
        "\n",
        "1. Seleccionar una ciudad y construir una nueva base de datos(Crear una MATRIZ, pasarla a DATA FRAME y de alli a archivo csv) tomando las temperaturas promedios de cada dia, de dicha ciudad (podras hacer el calculo de los promedios a partir de todas las temperaturas que halles entre la maxima y la minima de cada dia)\n",
        "\n",
        "\\\n",
        "\n",
        "BASICAMENTE SERIA:\n",
        "\\\n",
        "\n",
        "1a- (en este caso seria pasar el csv(Original) a DATA FRAME de alli TRABAJARLO, ANALIZARLO, PROCESARLO, ETC.)\n",
        "\n",
        "1b- Luego de TRABAJARLO y tener los RESULTADOS(RESULTADOS=vectores con numeros)\n",
        "\n",
        "1c- Componer una MATRIZ(Nuevo) con esos vectores(hacerlos a los vectores filas o columnas depende de lo que requiera)\n",
        "\n",
        "1d- por ultimo convertir esa MATRIZ(que estaria compuesta por los vectores que son nuevos resultados) convertir esa matriz en un DATA FRAME(con etiquetas etc)\n",
        "\n",
        "1e- Y a ese DATA FRAME convertirlo en un CSV\n",
        "\n",
        "\\\n",
        "\n",
        "Graficar dichos datos(regre...) TIEMPO VS TEMPERATURA Y SELECCIONAR UN PERIODO DE TIEMPO DONDE LA GRAFICA SEA CRECIENTE. Esto servira para construir una nueva base de datos(csv).\n",
        "(Esto de graficar piensenlo un poquito...)\n",
        "\n",
        "\\"
      ]
    },
    {
      "cell_type": "code",
      "execution_count": 305,
      "metadata": {},
      "outputs": [
        {
          "data": {
            "text/html": [
              "<div>\n",
              "<style scoped>\n",
              "    .dataframe tbody tr th:only-of-type {\n",
              "        vertical-align: middle;\n",
              "    }\n",
              "\n",
              "    .dataframe tbody tr th {\n",
              "        vertical-align: top;\n",
              "    }\n",
              "\n",
              "    .dataframe thead th {\n",
              "        text-align: right;\n",
              "    }\n",
              "</style>\n",
              "<table border=\"1\" class=\"dataframe\">\n",
              "  <thead>\n",
              "    <tr style=\"text-align: right;\">\n",
              "      <th></th>\n",
              "      <th>FECHA</th>\n",
              "      <th>TMAX</th>\n",
              "      <th>TMIN</th>\n",
              "      <th>NOMBRE</th>\n",
              "    </tr>\n",
              "  </thead>\n",
              "  <tbody>\n",
              "    <tr>\n",
              "      <th>0</th>\n",
              "      <td>29102</td>\n",
              "      <td>23.0</td>\n",
              "      <td>17.9</td>\n",
              "      <td>AEROPARQUE AERO</td>\n",
              "    </tr>\n",
              "    <tr>\n",
              "      <th>1</th>\n",
              "      <td>28102</td>\n",
              "      <td>26.0</td>\n",
              "      <td>18.7</td>\n",
              "      <td>AEROPARQUE AERO</td>\n",
              "    </tr>\n",
              "    <tr>\n",
              "      <th>2</th>\n",
              "      <td>27102</td>\n",
              "      <td>25.2</td>\n",
              "      <td>18.0</td>\n",
              "      <td>AEROPARQUE AERO</td>\n",
              "    </tr>\n",
              "    <tr>\n",
              "      <th>3</th>\n",
              "      <td>26102</td>\n",
              "      <td>23.0</td>\n",
              "      <td>13.0</td>\n",
              "      <td>AEROPARQUE AERO</td>\n",
              "    </tr>\n",
              "    <tr>\n",
              "      <th>4</th>\n",
              "      <td>25102</td>\n",
              "      <td>18.7</td>\n",
              "      <td>10.5</td>\n",
              "      <td>AEROPARQUE AERO</td>\n",
              "    </tr>\n",
              "    <tr>\n",
              "      <th>5</th>\n",
              "      <td>24102</td>\n",
              "      <td>19.6</td>\n",
              "      <td>13.5</td>\n",
              "      <td>AEROPARQUE AERO</td>\n",
              "    </tr>\n",
              "    <tr>\n",
              "      <th>6</th>\n",
              "      <td>23102</td>\n",
              "      <td>20.0</td>\n",
              "      <td>16.3</td>\n",
              "      <td>AEROPARQUE AERO</td>\n",
              "    </tr>\n",
              "    <tr>\n",
              "      <th>7</th>\n",
              "      <td>22102</td>\n",
              "      <td>24.0</td>\n",
              "      <td>18.5</td>\n",
              "      <td>AEROPARQUE AERO</td>\n",
              "    </tr>\n",
              "    <tr>\n",
              "      <th>8</th>\n",
              "      <td>21102</td>\n",
              "      <td>23.0</td>\n",
              "      <td>17.0</td>\n",
              "      <td>AEROPARQUE AERO</td>\n",
              "    </tr>\n",
              "    <tr>\n",
              "      <th>9</th>\n",
              "      <td>20102</td>\n",
              "      <td>22.5</td>\n",
              "      <td>15.6</td>\n",
              "      <td>AEROPARQUE AERO</td>\n",
              "    </tr>\n",
              "  </tbody>\n",
              "</table>\n",
              "</div>"
            ],
            "text/plain": [
              "   FECHA    TMAX    TMIN            NOMBRE\n",
              "0  29102    23.0    17.9   AEROPARQUE AERO\n",
              "1  28102    26.0    18.7   AEROPARQUE AERO\n",
              "2  27102    25.2    18.0   AEROPARQUE AERO\n",
              "3  26102    23.0    13.0   AEROPARQUE AERO\n",
              "4  25102    18.7    10.5   AEROPARQUE AERO\n",
              "5  24102    19.6    13.5   AEROPARQUE AERO\n",
              "6  23102    20.0    16.3   AEROPARQUE AERO\n",
              "7  22102    24.0    18.5   AEROPARQUE AERO\n",
              "8  21102    23.0    17.0   AEROPARQUE AERO\n",
              "9  20102    22.5    15.6   AEROPARQUE AERO"
            ]
          },
          "execution_count": 305,
          "metadata": {},
          "output_type": "execute_result"
        }
      ],
      "source": [
        "# Leemos el CSV y mostarmos un pantallazo\n",
        "df = pd.read_csv(\"registro_temperatura365-ordenado-y-separado (1).csv\")\n",
        "df.head(10)"
      ]
    },
    {
      "cell_type": "code",
      "execution_count": 306,
      "metadata": {},
      "outputs": [
        {
          "data": {
            "text/html": [
              "<div>\n",
              "<style scoped>\n",
              "    .dataframe tbody tr th:only-of-type {\n",
              "        vertical-align: middle;\n",
              "    }\n",
              "\n",
              "    .dataframe tbody tr th {\n",
              "        vertical-align: top;\n",
              "    }\n",
              "\n",
              "    .dataframe thead th {\n",
              "        text-align: right;\n",
              "    }\n",
              "</style>\n",
              "<table border=\"1\" class=\"dataframe\">\n",
              "  <thead>\n",
              "    <tr style=\"text-align: right;\">\n",
              "      <th></th>\n",
              "      <th>FECHA</th>\n",
              "    </tr>\n",
              "  </thead>\n",
              "  <tbody>\n",
              "    <tr>\n",
              "      <th>count</th>\n",
              "      <td>43679.000000</td>\n",
              "    </tr>\n",
              "    <tr>\n",
              "      <th>mean</th>\n",
              "      <td>15784.150461</td>\n",
              "    </tr>\n",
              "    <tr>\n",
              "      <th>std</th>\n",
              "      <td>8800.530816</td>\n",
              "    </tr>\n",
              "    <tr>\n",
              "      <th>min</th>\n",
              "      <td>1012.000000</td>\n",
              "    </tr>\n",
              "    <tr>\n",
              "      <th>25%</th>\n",
              "      <td>8082.000000</td>\n",
              "    </tr>\n",
              "    <tr>\n",
              "      <th>50%</th>\n",
              "      <td>16032.000000</td>\n",
              "    </tr>\n",
              "    <tr>\n",
              "      <th>75%</th>\n",
              "      <td>23102.000000</td>\n",
              "    </tr>\n",
              "    <tr>\n",
              "      <th>max</th>\n",
              "      <td>31122.000000</td>\n",
              "    </tr>\n",
              "  </tbody>\n",
              "</table>\n",
              "</div>"
            ],
            "text/plain": [
              "              FECHA\n",
              "count  43679.000000\n",
              "mean   15784.150461\n",
              "std     8800.530816\n",
              "min     1012.000000\n",
              "25%     8082.000000\n",
              "50%    16032.000000\n",
              "75%    23102.000000\n",
              "max    31122.000000"
            ]
          },
          "execution_count": 306,
          "metadata": {},
          "output_type": "execute_result"
        }
      ],
      "source": [
        "df.describe()"
      ]
    },
    {
      "cell_type": "code",
      "execution_count": 307,
      "metadata": {},
      "outputs": [
        {
          "name": "stdout",
          "output_type": "stream",
          "text": [
            "<class 'pandas.core.frame.DataFrame'>\n",
            "RangeIndex: 43679 entries, 0 to 43678\n",
            "Data columns (total 4 columns):\n",
            " #   Column  Non-Null Count  Dtype \n",
            "---  ------  --------------  ----- \n",
            " 0   FECHA   43679 non-null  int64 \n",
            " 1   TMAX    43679 non-null  object\n",
            " 2   TMIN    43679 non-null  object\n",
            " 3   NOMBRE  43679 non-null  object\n",
            "dtypes: int64(1), object(3)\n",
            "memory usage: 1.3+ MB\n"
          ]
        }
      ],
      "source": [
        "df.info()"
      ]
    },
    {
      "cell_type": "code",
      "execution_count": 308,
      "metadata": {},
      "outputs": [
        {
          "name": "stdout",
          "output_type": "stream",
          "text": [
            "<class 'pandas.core.frame.DataFrame'>\n",
            "Index: 40030 entries, 0 to 43678\n",
            "Data columns (total 4 columns):\n",
            " #   Column  Non-Null Count  Dtype \n",
            "---  ------  --------------  ----- \n",
            " 0   FECHA   40030 non-null  object\n",
            " 1   TMAX    40030 non-null  object\n",
            " 2   TMIN    40030 non-null  object\n",
            " 3   NOMBRE  40030 non-null  object\n",
            "dtypes: object(4)\n",
            "memory usage: 1.5+ MB\n"
          ]
        },
        {
          "name": "stdout",
          "output_type": "stream",
          "text": [
            "<class 'pandas.core.frame.DataFrame'>\n",
            "Index: 40030 entries, 0 to 43678\n",
            "Data columns (total 4 columns):\n",
            " #   Column  Non-Null Count  Dtype \n",
            "---  ------  --------------  ----- \n",
            " 0   FECHA   39807 non-null  object\n",
            " 1   TMAX    40030 non-null  object\n",
            " 2   TMIN    40030 non-null  object\n",
            " 3   NOMBRE  40030 non-null  object\n",
            "dtypes: object(4)\n",
            "memory usage: 1.5+ MB\n",
            "<class 'pandas.core.frame.DataFrame'>\n",
            "Index: 39807 entries, 0 to 43678\n",
            "Data columns (total 4 columns):\n",
            " #   Column  Non-Null Count  Dtype \n",
            "---  ------  --------------  ----- \n",
            " 0   FECHA   39807 non-null  object\n",
            " 1   TMAX    39807 non-null  object\n",
            " 2   TMIN    39807 non-null  object\n",
            " 3   NOMBRE  39807 non-null  object\n",
            "dtypes: object(4)\n",
            "memory usage: 1.5+ MB\n"
          ]
        }
      ],
      "source": [
        "# Vemos que hay 4 columnas:\n",
        "# FECHA Contiene la fecha, el cual contiene INT\n",
        "# TMAX Contiene La temperatura maxima de esa fecha, pero contiene STRING\n",
        "# TMIN Contiene La temperatura minima de esa fecha, al igual que la columna anterior contiene STRING\n",
        "# NOMBRE Contiene el nombre de la ciudad en la cual se midieron esas temperatura, la cual contiene STRING\n",
        "\n",
        "# Antes de continuar vamos a solucionar el tema de los tipos, Dado que TMAX y TMIN deberian ser de tipo float y FECHA deberia ser de tipo STRING\n",
        "\n",
        "df.loc[:, 'FECHA'] = df['FECHA'].astype(str) \n",
        "\n",
        "df.loc[:, 'TMAX'] = df['TMAX'].str.strip()\n",
        "df.loc[:, 'TMAX'] = df['TMAX'].replace('', np.nan).astype(float)\n",
        "\n",
        "df.loc[:, 'TMIN'] = df['TMIN'].str.strip()\n",
        "df.loc[:, 'TMIN'] = df['TMIN'].replace('', np.nan).astype(float)\n",
        "\n",
        "df_limpio = df.dropna()\n",
        "df_limpio.info()\n",
        "\n",
        "# En este punto tenemos a todas las columnas como string, y le aplique strip y replace a TMAX y TMIN porque tenian espacios a derecha e\n",
        "# izquierda innecesarios y algunos no tenian valores. Como hay filas con valores nulos, vamos a eliminarlas\n",
        "\n",
        "# Queda tambien el hecho de que la fecha no tiene el formato correcto, agregamos a cada fecha un 3 dado que el formato  esta incompleto\n",
        "\n",
        "# Agregamos el caracter 3\n",
        "df_limpio.loc[:,'FECHA'] = df_limpio['FECHA'].apply(lambda x: x + '3')\n",
        "\n",
        "# Convertimos al formato adecuado\n",
        "df_limpio.loc[:,'FECHA'] = pd.to_datetime(df_limpio['FECHA'], format='%d%m%y', errors='coerce').dt.strftime('%d/%m/%Y')\n",
        "\n",
        "# La linea anterior cuando nota que hay un error al parsear una fecha con error lo convierte a NaT Not at Time\n",
        "df_limpio.info()\n",
        "\n",
        "# limpiamos si es que hay algun NaT\n",
        "df_limpio = df_limpio.dropna()\n",
        "df_limpio.info()\n"
      ]
    },
    {
      "cell_type": "code",
      "execution_count": 309,
      "metadata": {},
      "outputs": [
        {
          "name": "stdout",
          "output_type": "stream",
          "text": [
            "[' AEROPARQUE AERO' ' AZUL AERO' ' BAHIA BLANCA AERO' ' BARILOCHE AERO'\n",
            " ' BASE BELGRANO II' ' BASE CARLINI (EX JUBANY)' ' BASE ESPERANZA'\n",
            " ' BASE MARAMBIO' ' BASE ORCADAS' ' BASE SAN MARTIN' ' BENITO JUAREZ AERO'\n",
            " ' BERNARDO DE IRIGOYEN AERO' ' BOLIVAR AERO' ' BUENOS AIRES OBSERVATORIO'\n",
            " ' CAMPO DE MAYO AERO' ' CATAMARCA AERO' ' CERES AERO' ' CHAMICAL AERO'\n",
            " ' CHAPELCO AERO' ' CHEPES' ' CHILECITO AERO' ' CIPOLLETTI'\n",
            " ' COMODORO RIVADAVIA AERO' ' CONCORDIA AERO' ' CORDOBA AERO'\n",
            " ' CORDOBA OBSERVATORIO' ' CORONEL PRINGLES AERO' ' CORONEL SUAREZ AERO'\n",
            " ' CORRIENTES AERO' ' DOLORES AERO' ' EL BOLSON AERO' ' EL CALAFATE AERO'\n",
            " ' EL PALOMAR AERO' ' ESCUELA DE AVIACION MILITAR AERO' ' ESQUEL AERO'\n",
            " ' EZEIZA AERO' ' FORMOSA AERO' ' GENERAL PICO AERO'\n",
            " ' GOBERNADOR GREGORES AERO' ' GUALEGUAYCHU AERO' ' IGUAZU AERO'\n",
            " ' ITUZAINGO' ' JACHAL' ' JUJUY AERO' ' JUJUY U N' ' JUNIN AERO'\n",
            " ' LA PLATA AERO' ' LA QUIACA OBSERVATORIO' ' LA RIOJA AERO'\n",
            " ' LABOULAYE AERO' ' LAS FLORES' ' LAS LOMITAS' ' MALARGUE AERO'\n",
            " ' MAQUINCHAO' ' MAR DEL PLATA AERO' ' MARCOS JUAREZ AERO'\n",
            " ' MARIANO MORENO AERO' ' MENDOZA AERO' ' MENDOZA OBSERVATORIO'\n",
            " ' MERCEDES AERO (CTES)' ' MERLO AERO' ' METAN' ' MONTE CASEROS AERO'\n",
            " ' MORON AERO' ' NEUQUEN AERO' ' NUEVE DE JULIO' ' OBERA'\n",
            " ' OLAVARRIA AERO' ' ORAN AERO' ' PARANA AERO' ' PASO DE INDIOS'\n",
            " ' PASO DE LOS LIBRES AERO' ' PEHUAJO AERO' ' PERITO MORENO AERO'\n",
            " ' PIGUE AERO' ' PILAR OBSERVATORIO' ' POSADAS AERO'\n",
            " ' PRESIDENCIA ROQUE SAENZ PEÃ‘A AERO' ' PUERTO DESEADO AERO'\n",
            " ' PUERTO MADRYN AERO' ' PUNTA INDIO B.A.' ' RAFAELA AERO'\n",
            " ' RECONQUISTA AERO' ' RESISTENCIA AERO' ' RIO CUARTO AERO'\n",
            " ' RIO GALLEGOS AERO' ' RIO GRANDE B.A.' ' RIVADAVIA' ' ROSARIO AERO'\n",
            " ' SALTA AERO' ' SAN ANTONIO OESTE AERO' ' SAN FERNANDO AERO'\n",
            " ' SAN JUAN AERO' ' SAN JULIAN AERO' ' SAN LUIS AERO' ' SAN MARTIN (MZA)'\n",
            " ' SAN RAFAEL AERO' ' SANTA CRUZ AERO' ' SANTA ROSA AERO'\n",
            " ' SANTA ROSA DE CONLARA AERO' ' SANTIAGO DEL ESTERO AERO'\n",
            " ' SAUCE VIEJO AERO' ' SUNCHALES AERO' ' TANDIL AERO' ' TARTAGAL AERO'\n",
            " ' TERMAS DE RIO HONDO AERO' ' TINOGASTA' ' TRELEW AERO'\n",
            " ' TRENQUE LAUQUEN' ' TRES ARROYOS' ' TUCUMAN AERO' ' USHUAIA AERO'\n",
            " ' USPALLATA' ' VENADO TUERTO AERO' ' VICTORICA' ' VIEDMA AERO'\n",
            " ' VILLA DE MARIA DEL RIO SECO' ' VILLA DOLORES AERO' ' VILLA GESELL AERO'\n",
            " ' VILLA REYNOLDS AERO']\n"
          ]
        }
      ],
      "source": [
        "#Una vez limpio definimos ese contenido a df\n",
        "df = df_limpio\n",
        "\n",
        "# Veamos los nombres de las ciudades\n",
        "agrupado = df['NOMBRE'].unique()\n",
        "print(agrupado)\n",
        "\n",
        "# Luego de ver los nombres genero un numero aleatorio que representara la posicion del nombre de la ciudad\n",
        "# De esta manera elegiré mi ciudad aleatoriamente\n"
      ]
    },
    {
      "cell_type": "code",
      "execution_count": 310,
      "metadata": {},
      "outputs": [],
      "source": [
        "# ciudad_elegida = agrupado[np.random.randint(0,len(agrupado))] #Comentado para no elegir otra ciudad\n",
        "# print(f'Ciudad elegida aleatoriamente:{ciudad_elegida}')\n",
        "\n",
        "# Para futuras puestas en marcha definiremos a mano esta variable dada la aleatoriedad de la eleccion\n",
        "ciudad_elegida = 'BARILOCHE AERO'"
      ]
    },
    {
      "cell_type": "code",
      "execution_count": 311,
      "metadata": {},
      "outputs": [
        {
          "data": {
            "text/html": [
              "<div>\n",
              "<style scoped>\n",
              "    .dataframe tbody tr th:only-of-type {\n",
              "        vertical-align: middle;\n",
              "    }\n",
              "\n",
              "    .dataframe tbody tr th {\n",
              "        vertical-align: top;\n",
              "    }\n",
              "\n",
              "    .dataframe thead th {\n",
              "        text-align: right;\n",
              "    }\n",
              "</style>\n",
              "<table border=\"1\" class=\"dataframe\">\n",
              "  <thead>\n",
              "    <tr style=\"text-align: right;\">\n",
              "      <th></th>\n",
              "      <th>FECHA</th>\n",
              "      <th>TMAX</th>\n",
              "      <th>TMIN</th>\n",
              "      <th>NOMBRE</th>\n",
              "    </tr>\n",
              "  </thead>\n",
              "  <tbody>\n",
              "  </tbody>\n",
              "</table>\n",
              "</div>"
            ],
            "text/plain": [
              "Empty DataFrame\n",
              "Columns: [FECHA, TMAX, TMIN, NOMBRE]\n",
              "Index: []"
            ]
          },
          "execution_count": 311,
          "metadata": {},
          "output_type": "execute_result"
        }
      ],
      "source": [
        "# Elegida la ciudad, descartamos todos los otros datos\n",
        "df_filtrado = df.loc[df['NOMBRE'] == ciudad_elegida]\n",
        "\n",
        "df_filtrado.head()"
      ]
    },
    {
      "cell_type": "code",
      "execution_count": 312,
      "metadata": {},
      "outputs": [
        {
          "data": {
            "text/html": [
              "<div>\n",
              "<style scoped>\n",
              "    .dataframe tbody tr th:only-of-type {\n",
              "        vertical-align: middle;\n",
              "    }\n",
              "\n",
              "    .dataframe tbody tr th {\n",
              "        vertical-align: top;\n",
              "    }\n",
              "\n",
              "    .dataframe thead th {\n",
              "        text-align: right;\n",
              "    }\n",
              "</style>\n",
              "<table border=\"1\" class=\"dataframe\">\n",
              "  <thead>\n",
              "    <tr style=\"text-align: right;\">\n",
              "      <th></th>\n",
              "      <th>FECHA</th>\n",
              "      <th>TMAX</th>\n",
              "      <th>TMIN</th>\n",
              "      <th>NOMBRE</th>\n",
              "    </tr>\n",
              "  </thead>\n",
              "  <tbody>\n",
              "    <tr>\n",
              "      <th>1095</th>\n",
              "      <td>29/10/2023</td>\n",
              "      <td>3.5</td>\n",
              "      <td>-0.3</td>\n",
              "      <td>BARILOCHE AERO</td>\n",
              "    </tr>\n",
              "    <tr>\n",
              "      <th>1096</th>\n",
              "      <td>28/10/2023</td>\n",
              "      <td>8.4</td>\n",
              "      <td>0.1</td>\n",
              "      <td>BARILOCHE AERO</td>\n",
              "    </tr>\n",
              "    <tr>\n",
              "      <th>1097</th>\n",
              "      <td>27/10/2023</td>\n",
              "      <td>11.9</td>\n",
              "      <td>6.6</td>\n",
              "      <td>BARILOCHE AERO</td>\n",
              "    </tr>\n",
              "    <tr>\n",
              "      <th>1098</th>\n",
              "      <td>26/10/2023</td>\n",
              "      <td>14.4</td>\n",
              "      <td>6.6</td>\n",
              "      <td>BARILOCHE AERO</td>\n",
              "    </tr>\n",
              "    <tr>\n",
              "      <th>1099</th>\n",
              "      <td>25/10/2023</td>\n",
              "      <td>20.2</td>\n",
              "      <td>-0.6</td>\n",
              "      <td>BARILOCHE AERO</td>\n",
              "    </tr>\n",
              "    <tr>\n",
              "      <th>1100</th>\n",
              "      <td>24/10/2023</td>\n",
              "      <td>19.0</td>\n",
              "      <td>3.3</td>\n",
              "      <td>BARILOCHE AERO</td>\n",
              "    </tr>\n",
              "    <tr>\n",
              "      <th>1101</th>\n",
              "      <td>23/10/2023</td>\n",
              "      <td>19.0</td>\n",
              "      <td>7.5</td>\n",
              "      <td>BARILOCHE AERO</td>\n",
              "    </tr>\n",
              "    <tr>\n",
              "      <th>1102</th>\n",
              "      <td>22/10/2023</td>\n",
              "      <td>21.5</td>\n",
              "      <td>2.1</td>\n",
              "      <td>BARILOCHE AERO</td>\n",
              "    </tr>\n",
              "    <tr>\n",
              "      <th>1103</th>\n",
              "      <td>21/10/2023</td>\n",
              "      <td>21.8</td>\n",
              "      <td>4.2</td>\n",
              "      <td>BARILOCHE AERO</td>\n",
              "    </tr>\n",
              "    <tr>\n",
              "      <th>1104</th>\n",
              "      <td>20/10/2023</td>\n",
              "      <td>20.9</td>\n",
              "      <td>2.7</td>\n",
              "      <td>BARILOCHE AERO</td>\n",
              "    </tr>\n",
              "  </tbody>\n",
              "</table>\n",
              "</div>"
            ],
            "text/plain": [
              "           FECHA  TMAX TMIN           NOMBRE\n",
              "1095  29/10/2023   3.5 -0.3   BARILOCHE AERO\n",
              "1096  28/10/2023   8.4  0.1   BARILOCHE AERO\n",
              "1097  27/10/2023  11.9  6.6   BARILOCHE AERO\n",
              "1098  26/10/2023  14.4  6.6   BARILOCHE AERO\n",
              "1099  25/10/2023  20.2 -0.6   BARILOCHE AERO\n",
              "1100  24/10/2023  19.0  3.3   BARILOCHE AERO\n",
              "1101  23/10/2023  19.0  7.5   BARILOCHE AERO\n",
              "1102  22/10/2023  21.5  2.1   BARILOCHE AERO\n",
              "1103  21/10/2023  21.8  4.2   BARILOCHE AERO\n",
              "1104  20/10/2023  20.9  2.7   BARILOCHE AERO"
            ]
          },
          "execution_count": 312,
          "metadata": {},
          "output_type": "execute_result"
        }
      ],
      "source": [
        "# Al parecer tenemos problemas con lo que seria el valor de la columan nombre, por lo que estuve averiguando podria contener los nombres con espacios\n",
        "# innecesarios hacia la derecha y la izquierda, usaremos una funcion apply que utiliza una funcion para obtener una mascara y luego esa mascara la \n",
        "# usaremos para filtrar nuestro dataset\n",
        "\n",
        "mask = df['NOMBRE'].apply(lambda x: x.strip() == ciudad_elegida)\n",
        "df_filtrado = df[mask]\n",
        "df_filtrado.head(10)"
      ]
    },
    {
      "cell_type": "code",
      "execution_count": 313,
      "metadata": {},
      "outputs": [
        {
          "name": "stderr",
          "output_type": "stream",
          "text": [
            "C:\\Users\\crist\\AppData\\Local\\Temp\\ipykernel_17796\\1908534953.py:2: SettingWithCopyWarning: \n",
            "A value is trying to be set on a copy of a slice from a DataFrame.\n",
            "Try using .loc[row_indexer,col_indexer] = value instead\n",
            "\n",
            "See the caveats in the documentation: https://pandas.pydata.org/pandas-docs/stable/user_guide/indexing.html#returning-a-view-versus-a-copy\n",
            "  df_filtrado.loc[:, 'TPROM'] = (df_filtrado['TMAX'] + df_filtrado['TMIN']) / 2\n"
          ]
        },
        {
          "data": {
            "text/html": [
              "<div>\n",
              "<style scoped>\n",
              "    .dataframe tbody tr th:only-of-type {\n",
              "        vertical-align: middle;\n",
              "    }\n",
              "\n",
              "    .dataframe tbody tr th {\n",
              "        vertical-align: top;\n",
              "    }\n",
              "\n",
              "    .dataframe thead th {\n",
              "        text-align: right;\n",
              "    }\n",
              "</style>\n",
              "<table border=\"1\" class=\"dataframe\">\n",
              "  <thead>\n",
              "    <tr style=\"text-align: right;\">\n",
              "      <th></th>\n",
              "      <th>FECHA</th>\n",
              "      <th>TMAX</th>\n",
              "      <th>TMIN</th>\n",
              "      <th>NOMBRE</th>\n",
              "      <th>TPROM</th>\n",
              "    </tr>\n",
              "  </thead>\n",
              "  <tbody>\n",
              "    <tr>\n",
              "      <th>1095</th>\n",
              "      <td>29/10/2023</td>\n",
              "      <td>3.5</td>\n",
              "      <td>-0.3</td>\n",
              "      <td>BARILOCHE AERO</td>\n",
              "      <td>1.6</td>\n",
              "    </tr>\n",
              "    <tr>\n",
              "      <th>1096</th>\n",
              "      <td>28/10/2023</td>\n",
              "      <td>8.4</td>\n",
              "      <td>0.1</td>\n",
              "      <td>BARILOCHE AERO</td>\n",
              "      <td>4.25</td>\n",
              "    </tr>\n",
              "    <tr>\n",
              "      <th>1097</th>\n",
              "      <td>27/10/2023</td>\n",
              "      <td>11.9</td>\n",
              "      <td>6.6</td>\n",
              "      <td>BARILOCHE AERO</td>\n",
              "      <td>9.25</td>\n",
              "    </tr>\n",
              "    <tr>\n",
              "      <th>1098</th>\n",
              "      <td>26/10/2023</td>\n",
              "      <td>14.4</td>\n",
              "      <td>6.6</td>\n",
              "      <td>BARILOCHE AERO</td>\n",
              "      <td>10.5</td>\n",
              "    </tr>\n",
              "    <tr>\n",
              "      <th>1099</th>\n",
              "      <td>25/10/2023</td>\n",
              "      <td>20.2</td>\n",
              "      <td>-0.6</td>\n",
              "      <td>BARILOCHE AERO</td>\n",
              "      <td>9.8</td>\n",
              "    </tr>\n",
              "  </tbody>\n",
              "</table>\n",
              "</div>"
            ],
            "text/plain": [
              "           FECHA  TMAX TMIN           NOMBRE TPROM\n",
              "1095  29/10/2023   3.5 -0.3   BARILOCHE AERO   1.6\n",
              "1096  28/10/2023   8.4  0.1   BARILOCHE AERO  4.25\n",
              "1097  27/10/2023  11.9  6.6   BARILOCHE AERO  9.25\n",
              "1098  26/10/2023  14.4  6.6   BARILOCHE AERO  10.5\n",
              "1099  25/10/2023  20.2 -0.6   BARILOCHE AERO   9.8"
            ]
          },
          "execution_count": 313,
          "metadata": {},
          "output_type": "execute_result"
        }
      ],
      "source": [
        "# df_filtrado.loc[:, 'TPROM'] = (df_filtrado['TMAX'] + df_filtrado['TMIN']) / 2\n",
        "df_filtrado.loc[:, 'TPROM'] = (df_filtrado['TMAX'] + df_filtrado['TMIN']) / 2\n",
        "df_filtrado.head()"
      ]
    },
    {
      "cell_type": "markdown",
      "metadata": {},
      "source": [
        "2.  Agregar a la nueva base de datos creada (Agrega a la matriz), del insciso anterior dos columna(osea agrega a la matriz dos columnas mas= pista: converti dos vectores (con numeros=resultados) en columna+etiquetas(etiquetas=variable)) con las siguientes variables (VARIABLE: PRECIO DEL KILO DE HELADO//COMPRA HELADO- VARIABLE CATEGORICA, RESPUESTA SI/NO), generadas a través de simulación aleatoria(ramd...):\n",
        "\n",
        "\n",
        "   * VARIABLE: PRECIO DEL KILO DE HELADO- construir esta variable usando simulación aleatoria de regresión lineal en función de la temperatura. De manera que a mayor temperatura el precio sea MAYOR,  a menor temperatura el precio será menor. Definir el  rango del precio del helado y la tasa o porcentaje de incremento del precio\n",
        "  \n",
        "   * COMPRA HELADO: VARIABLE CATEGORICA , RESPUESTA SI/NO. Generar esta variable con simulación aleatoria de manera que si el precio del helado es mas del 40 % del precio inicial, la persona decide NO COMPRAR EL HELADO, ESTO SUCEDE CON UNA PROPORCION O PROBABILIDAD DEL 80% DE LA CANTIDAD TOTAL DE REGISTROS.\n",
        "\n",
        "\n",
        "BASICAMENTE SERIA:\n",
        "\n",
        "DOSa- Inclui una nueva columna llamada \"PRECIO DEL HELADO\" en la base de datos(MATRIZ) que creamos anteriormente. El precio del helado aumentara cuando haga calor y disminuira cuando haga frio.\n",
        "\n",
        "DOSb- También añadiremos una columna llamada \"COMPRA HELADO\" que nos dirá si la gente decide comprar helado o no. Si el precio del helado es muy alto (más del 40% de lo normal), la respuesta será \"No comprar el helado\" en un 80% de los casos.\n",
        "    ##########################\n",
        "    \"PRECIO DEL HELADO\": Esta columna contendría los valores numéricos que representan el precio del helado para cada registro en la base de datos.\n",
        "\n",
        "    \"COMPRA HELADO\": Esta columna sería categórica y contendría etiquetas \"Sí\" o \"No\" para indicar si una persona decide comprar o no el helado en cada registro.\n",
        "    ##########################\n",
        "\n",
        "Osea agregarías dos columnas adicionales a la base de datos QUE CREASTE, dichas columnas tendrias estas dos etiquetas que meciono arriba: \"PRECIO HELADO\",\"COMPRA HELADO\"\n",
        "\n",
        "\\"
      ]
    },
    {
      "cell_type": "code",
      "execution_count": 315,
      "metadata": {},
      "outputs": [
        {
          "name": "stderr",
          "output_type": "stream",
          "text": [
            "C:\\Users\\crist\\AppData\\Local\\Temp\\ipykernel_17796\\3549615397.py:21: SettingWithCopyWarning: \n",
            "A value is trying to be set on a copy of a slice from a DataFrame.\n",
            "Try using .loc[row_indexer,col_indexer] = value instead\n",
            "\n",
            "See the caveats in the documentation: https://pandas.pydata.org/pandas-docs/stable/user_guide/indexing.html#returning-a-view-versus-a-copy\n",
            "  df_filtrado.loc[:, 'PRECIO'] = df_filtrado['TPROM'].apply(lambda x: f(x))\n"
          ]
        }
      ],
      "source": [
        "# Segun lo que entiendo, el precio esta dado por una recta de la manera p = m * t + b, donde:\n",
        "# p es precio\n",
        "# m es la pendiente de la recta (cuanto sube o baja el precio por cada 1° que aumenta o baja)\n",
        "# t temperatura promedio en este caso\n",
        "# b es el precio que tendria el helado cuando la temperatura seria 0°. \n",
        "\n",
        "# Vamos a suponer que la menos temperatura a la cual una persona normal compra un helado es de -100 y el precio al cual lo compraria seria a $1.\n",
        "# Vamos a suponer tambien que la mayor temperatura sera 50° y el precio en ese momento sera de $5000.\n",
        "# Dadas esas suposiciones tenemos dos puntos de la recta que determinara el precio, tenemos (-100,1) y (50, 5000) \n",
        "# Calculamos m y b, \n",
        "# m = (y2 - y1) / (x2 - x1) -> En nuestro caso es m = (5000 - 1)/(50 - (-100)) = 33,32666... redondeando m = 33,33\n",
        "# luego la recta que aproximadamente pasa por los 2 puntos es p - y1 = m(t - x1)\n",
        "# reemplazando\n",
        "# p - 1 = 33,33(t - (-100)) -> p = 33,33 t + 3334\n",
        "\n",
        "m = 33.33\n",
        "b = 3334\n",
        "def f(x):\n",
        "    return m * x + b\n",
        "\n",
        "df_filtrado.loc[:, 'PRECIO'] = df_filtrado['TPROM'].apply(lambda x: f(x))\n"
      ]
    },
    {
      "cell_type": "markdown",
      "metadata": {},
      "source": [
        "3. GENERAR (crear un modelo: entrada, proceso, salida)TRES  PERCEPTRONES (SEGUIR LOS EJEMPLOS MOSTRADOS DE PERCEPTRON EN CLASE)CONECTADOS ENTRE SI (El ejemplo estaria en el b2 etapa 4) DE MANERA QUE TENGA COMO CONDICIÓN LO SIGUIENTE:\n",
        "\n",
        "  * SI HACEN MÁS DE 27 GRADOS DE TEMPERATURA O INCLUSIVE SI EL PRECIO DEL HELADO ESTA POR DEBAJO DEL 40 % DE INCREMENTO, LA RED NEURONAL DEBERA INDICAR QUE ES BUEN MOMENTO DE COMPRA EL HELADO. ( los pesos colocarlos de manera aleatoria, usar la función de salto finito o función sigmoide para la activación)\n",
        "\n",
        "(En esta tambien, se las dejo para que piensen)\n",
        "\n",
        "\\"
      ]
    },
    {
      "cell_type": "markdown",
      "metadata": {
        "id": "Q2wopJgTECIF"
      },
      "source": [
        "4. Luego de diseñar los perceptrones, implementarlos(hacer la prediccion) sobre la base de datos(Matriz) generada de manera que se les pase por argumento las variables: TEMPERATURA PROMEDIO, PRECIO DEL HELADO. Comparar la proporción de respuestas correctas en las que coincide el resultado de la red neuronal , con la variable COMPRA HELADOS . Esto último es una forma de medir la exactitud de la red.\n",
        "\n",
        "BASICAMENTE SERIA:\n",
        "\n",
        "4a-- Después de diseñar los perceptrones, toma la base de datos(Matriz) que creamos en el paso anterior.\n",
        "\n",
        "4b-- Utiliza la temperatura promedio y el precio del helado como entrada para la red neuronal.\n",
        "\n",
        "4c-- La red neuronal generará respuestas basadas en estos datos.\n",
        "\n",
        "4d-- Compara las respuestas de la red neuronal con la variable \"COMPRA HELADO\" en la base de datos.(Los predict)\n",
        "\n",
        "4e-- Registra cuántas veces la red neuronal acierta en sus predicciones, es decir, cuántas veces coincide con la variable \"COMPRA HELADO\".(aqui ya analizen el codigo)\n",
        "\n",
        "4f-- Esto nos dará una medida de la precisión de la red neuronal en su tarea de predicción.\n",
        "\n",
        "\n"
      ]
    },
    {
      "cell_type": "markdown",
      "metadata": {
        "id": "JCndat_5fHOa"
      },
      "source": [
        "![seguir-adelante.jpeg](data:image/jpeg;base64,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)"
      ]
    }
  ],
  "metadata": {
    "colab": {
      "provenance": []
    },
    "kernelspec": {
      "display_name": "Python 3",
      "name": "python3"
    },
    "language_info": {
      "codemirror_mode": {
        "name": "ipython",
        "version": 3
      },
      "file_extension": ".py",
      "mimetype": "text/x-python",
      "name": "python",
      "nbconvert_exporter": "python",
      "pygments_lexer": "ipython3",
      "version": "3.11.6"
    }
  },
  "nbformat": 4,
  "nbformat_minor": 0
}
